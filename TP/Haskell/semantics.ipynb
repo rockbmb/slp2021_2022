{
 "cells": [
  {
   "cell_type": "markdown",
   "metadata": {},
   "source": [
    "# Licenciatura em Ciências da Computação"
   ]
  },
  {
   "cell_type": "markdown",
   "metadata": {},
   "source": [
    "# Semântica de Linguagens de Programação 2021/2022"
   ]
  },
  {
   "cell_type": "markdown",
   "metadata": {},
   "source": [
    "## A70373 Alexandre Rodrigues Baldé"
   ]
  },
  {
   "cell_type": "markdown",
   "metadata": {},
   "source": [
    "## Conteúdo:\n",
    "\n",
    "1. [Tipos de dados para a linguagem While](#tipos-de-dados-para-a-linguagem-while)\n",
    "2. [Semântica Natural](#avaliação-de-programas-por-semântica-natural)\n",
    "3. [Semântica Operacional Estrutural](#avaliação-de-programas-por-semântica-operacional-estrutural)\n",
    "4. [Detalhes de Implementação da AM1](#máquina-abstrata-1-am1)\n",
    "5. [Detalhes de Implementação de AM2, AM3](#máquinas-abstratas-2-e-3-am3)"
   ]
  },
  {
   "cell_type": "markdown",
   "metadata": {},
   "source": [
    "---"
   ]
  },
  {
   "cell_type": "markdown",
   "metadata": {},
   "source": [
    "### Nota sobre o Projeto\n",
    "Para correr o código, basta fazer\n",
    "\n",
    "```bash\n",
    "cd semantics\n",
    "cabal repl\n",
    "```\n",
    "\n",
    "e executar os comandos aqui descritos."
   ]
  },
  {
   "cell_type": "markdown",
   "metadata": {},
   "source": [
    "## Tipos de dados para a linguagem While"
   ]
  },
  {
   "cell_type": "markdown",
   "metadata": {},
   "source": [
    "Abaixo estão as extensões de Haskell e `import`s utilizados neste projeto."
   ]
  },
  {
   "cell_type": "code",
   "execution_count": 25,
   "metadata": {},
   "outputs": [],
   "source": [
    ":ext InstanceSigs\n",
    ":ext BangPatterns"
   ]
  },
  {
   "cell_type": "code",
   "execution_count": 2,
   "metadata": {},
   "outputs": [],
   "source": [
    "import qualified Data.Map   as M\n",
    "import qualified Data.Maybe as Maybe\n",
    "\n",
    "import           Data.List (intercalate)\n",
    "\n",
    "-- For Natural Semantics\n",
    "import qualified Control.Monad.State.Strict as St\n",
    "import           Control.Monad              (when)"
   ]
  },
  {
   "cell_type": "markdown",
   "metadata": {},
   "source": [
    "Dada a nomenclatura usada na disciplina, definiram-se alguns sinónimos `type` para mais fácil leitura do código."
   ]
  },
  {
   "cell_type": "code",
   "execution_count": 3,
   "metadata": {},
   "outputs": [],
   "source": [
    "type Z = Integer\n",
    "\n",
    "type Var = String"
   ]
  },
  {
   "cell_type": "markdown",
   "metadata": {},
   "source": [
    "Vejam-se abaixo os ADTs definidos para expressões aritméticas, e booleanas."
   ]
  },
  {
   "cell_type": "code",
   "execution_count": null,
   "metadata": {},
   "outputs": [],
   "source": [
    "data Aexp\n",
    "    = Num Z\n",
    "    | Var Var\n",
    "    | Aexp `Plus` Aexp\n",
    "    | Aexp `Mul` Aexp\n",
    "    | Aexp `Minus` Aexp\n",
    "    deriving Eq"
   ]
  },
  {
   "cell_type": "code",
   "execution_count": null,
   "metadata": {},
   "outputs": [],
   "source": [
    "data Bexp\n",
    "    = T\n",
    "    | F\n",
    "    | Aexp `Eq` Aexp\n",
    "    | Aexp `Le` Aexp\n",
    "    | Aexp `Lt` Aexp\n",
    "    | Aexp `Ge` Aexp\n",
    "    | Not Bexp\n",
    "    | Bexp `And` Bexp\n",
    "    | Bexp `Or` Bexp\n",
    "    deriving Eq"
   ]
  },
  {
   "cell_type": "markdown",
   "metadata": {},
   "source": [
    "As funções abaixo estão definidas na biblioteca `semantics` no módulo `Core`; as suas assinaturas explicam o seu propósito.\n",
    "\n",
    "Num dos exercícios da ficha 1 pedia-se uma função de atualização de estado, chamada aqui de `stUpdate`."
   ]
  },
  {
   "cell_type": "code",
   "execution_count": 5,
   "metadata": {},
   "outputs": [],
   "source": [
    "type State = M.Map Var Z\n",
    "\n",
    "getSt :: State -> Var -> Z\n",
    "getSt st var = Maybe.fromMaybe 0 (M.lookup var st)\n",
    "\n",
    "stUpdate :: State -> Var -> Z -> State\n",
    "stUpdate st var v = M.insert var v st"
   ]
  },
  {
   "cell_type": "code",
   "execution_count": 6,
   "metadata": {},
   "outputs": [],
   "source": [
    "subAexp :: Var -> Aexp -> Aexp -> Aexp\n",
    "subBexp :: Var -> Aexp -> Bexp -> Bexp\n",
    "\n",
    "arithEval :: Aexp -> (State -> Z)\n",
    "boolEval :: Bexp -> (State -> Bool)"
   ]
  },
  {
   "cell_type": "markdown",
   "metadata": {},
   "source": [
    "### State Helpers"
   ]
  },
  {
   "cell_type": "code",
   "execution_count": 7,
   "metadata": {},
   "outputs": [],
   "source": [
    "-- Igual ao tipo State, mas com instância de Show legível.\n",
    "newtype State' = St {\n",
    "    getState :: State\n",
    "    } deriving (Eq)\n",
    "\n",
    "instance Show State' where\n",
    "    show = showState . getState"
   ]
  },
  {
   "cell_type": "markdown",
   "metadata": {},
   "source": [
    "---"
   ]
  },
  {
   "cell_type": "code",
   "execution_count": null,
   "metadata": {},
   "outputs": [],
   "source": [
    "-- ADT para statements da linguagem While\n",
    "data Stm\n",
    "    = Var `Assign` Aexp\n",
    "    | Skip\n",
    "    | Stm `Comp` Stm\n",
    "    | IfThenElse Bexp Stm Stm\n",
    "    | WhileDo Bexp Stm\n",
    "    deriving (Eq)"
   ]
  },
  {
   "cell_type": "markdown",
   "metadata": {},
   "source": [
    "### Programas e estado exemplo"
   ]
  },
  {
   "cell_type": "markdown",
   "metadata": {},
   "source": [
    "Retirados da ficha 1, e usados para testar as várias funcionalidades desenvolvidas (NS, SOS, AM1, AM3)."
   ]
  },
  {
   "cell_type": "code",
   "execution_count": 28,
   "metadata": {},
   "outputs": [],
   "source": [
    "ex1State :: State\n",
    "ex1State = M.fromList [(\"n\", 6), (\"x\", 3), (\"y\", 2)]\n",
    "\n",
    "swap :: Stm\n",
    "swap = Comp (Comp c1 c2) c3\n",
    "    where\n",
    "        c1 = Assign \"n\" (Var \"x\")\n",
    "        c2 = Assign \"x\" (Var \"y\")\n",
    "        c3 = Assign \"y\" (Var \"n\")\n",
    "\n",
    "minProg :: Stm\n",
    "minProg = IfThenElse b1 if2 if3\n",
    "    where b1 = Lt (Var \"x\") (Var \"y\")\n",
    "          b2 = Lt (Var \"x\") (Var \"z\")\n",
    "          b3 = Lt (Var \"y\") (Var \"z\")\n",
    "          if3 = IfThenElse b3 (Assign \"m\" (Var \"y\")) (Assign \"m\" (Var \"z\"))\n",
    "          if2 = IfThenElse b2 (Assign \"m\" (Var \"x\")) (Assign \"m\" (Var \"z\"))\n",
    "\n",
    "expProg :: Stm\n",
    "expProg = Comp assgn while\n",
    "    where\n",
    "        assgn = Assign \"r\" (Num 1)\n",
    "        while = WhileDo bexp whileStm\n",
    "        bexp = Var \"y\" `Ge` Num 1\n",
    "        whileStm = Comp\n",
    "            (Assign \"r\" (Mul (Var \"r\") (Var \"x\")))\n",
    "            (Assign \"y\" (Minus (Var \"y\") (Num 1)))\n",
    "\n",
    "fact :: Stm\n",
    "fact = Comp assgn while\n",
    "    where\n",
    "        assgn = Assign \"f\" (Num 1)\n",
    "        while = WhileDo bexp whileStm\n",
    "        bexp = Var \"n\" `Ge` Num 1\n",
    "        whileStm = Comp\n",
    "            (Assign \"f\" (Mul (Var \"f\") (Var \"n\")))\n",
    "            (Assign \"n\" (Minus (Var \"n\") (Num 1)))"
   ]
  },
  {
   "cell_type": "markdown",
   "metadata": {},
   "source": [
    "## Avaliação de Programas por Semântica Natural"
   ]
  },
  {
   "cell_type": "code",
   "execution_count": 12,
   "metadata": {},
   "outputs": [],
   "source": [
    "evalNS :: State -> Stm -> State\n",
    "evalNS st stm = St.execState (helper stm) st\n",
    "    where\n",
    "        helper :: Stm -> St.State State ()\n",
    "        ..."
   ]
  },
  {
   "cell_type": "code",
   "execution_count": 29,
   "metadata": {},
   "outputs": [
    {
     "data": {
      "text/plain": [
       "fromList [(\"f\",720),(\"n\",0),(\"x\",3),(\"y\",2)]"
      ]
     },
     "metadata": {},
     "output_type": "display_data"
    }
   ],
   "source": [
    "evalNS ex1State fact"
   ]
  },
  {
   "cell_type": "code",
   "execution_count": 30,
   "metadata": {},
   "outputs": [
    {
     "data": {
      "text/plain": [
       "fromList [(\"n\",6),(\"r\",9),(\"x\",3),(\"y\",0)]"
      ]
     },
     "metadata": {},
     "output_type": "display_data"
    }
   ],
   "source": [
    "evalNS ex1State expProg"
   ]
  },
  {
   "cell_type": "markdown",
   "metadata": {},
   "source": [
    "## Avaliação de Programas por Semântica Operacional Estrutural"
   ]
  },
  {
   "cell_type": "code",
   "execution_count": 10,
   "metadata": {},
   "outputs": [],
   "source": [
    "stepSOS :: State -> Stm -> Either State (Stm, State)\n",
    "nstepsSOS :: State -> Stm -> Integer -> [Either State' (Stm, State')]\n",
    "\n",
    "-- Imprimir uma configuração numa string legível\n",
    "-- e.g. mapM_ (putStr . helperSOS) $ nstepsSOS ex1State fact 10\n",
    "helperSOS :: Either State' (Stm, State') -> String\n",
    "\n",
    "evalSOS :: State -> Stm -> State'"
   ]
  },
  {
   "cell_type": "markdown",
   "metadata": {},
   "source": [
    "Sobre a implementação de SOS em `semantics.StructOpSemantics`:\n",
    "\n",
    "\n",
    "* **Uma** transição (`stepSOS`) em semântica operacional estrutural:\n",
    "  * ou dá origem a um estado (`Left`)\n",
    "  * ou dá origem a um comando intermédio, juntamente com um novo estado (`Right`).\n",
    "* Várias transições em SOS (`nstepsSOS`):\n",
    "  * devolve a configuração que resulta de dar o número de passos de execução pedido, se for possível\n",
    "  * o resultado é uma lista que também tem todas as transições que precederam a última.\n",
    "* Avaliação de um programa While num dado estado (`evalSOS`):\n",
    "  * Retorna um `State'` definido acima - igual a `State` mas com instância `String` legível."
   ]
  },
  {
   "cell_type": "code",
   "execution_count": 31,
   "metadata": {},
   "outputs": [
    {
     "data": {
      "text/plain": [
       "f := 720; n := 0; x := 3; y := 2"
      ]
     },
     "metadata": {},
     "output_type": "display_data"
    }
   ],
   "source": [
    "evalSOS ex1State fact"
   ]
  },
  {
   "cell_type": "code",
   "execution_count": 32,
   "metadata": {},
   "outputs": [
    {
     "data": {
      "text/plain": [
       "n := 6; r := 9; x := 3; y := 0"
      ]
     },
     "metadata": {},
     "output_type": "display_data"
    }
   ],
   "source": [
    "evalSOS ex1State expProg"
   ]
  },
  {
   "cell_type": "markdown",
   "metadata": {},
   "source": [
    "## Máquina Abstrata 1 (AM1)"
   ]
  },
  {
   "cell_type": "markdown",
   "metadata": {},
   "source": [
    "Os tipos abaixo são usados para implementar AM1 (alguns são reutilizados/modificados para AM3).\n",
    "\n",
    "* O tipo `Env` é um mapeamento de variáveis a posições em memória.\n",
    "* À medida que se compila o código de AM1, vão-se atribuindo posições em memória na primeira ocorrência de cada variável\n",
    "  * o ADT `EnvStateAM1` e o tipo `NextAddr` servem para registar esta informação. Incialmente, o mapeamento tem que ser `Map.empty`, e o próximo endereço `0`."
   ]
  },
  {
   "cell_type": "code",
   "execution_count": 15,
   "metadata": {},
   "outputs": [],
   "source": [
    "type Env = M.Map Var Z\n",
    "\n",
    "getEnv :: Env -> Var -> Z\n",
    "getEnv e var = e M.! var\n",
    "\n",
    "type NextAddr = Z\n",
    "\n",
    "data EnvStateAM1 = EnvSt {\n",
    "    getEnvSt :: !Env,\n",
    "    getNxtAdr :: !NextAddr\n",
    "    } deriving (Eq, Show)\n",
    "\n",
    "getEnv :: Env -> Var -> Z\n",
    "getEnv e var = e M.! var"
   ]
  },
  {
   "cell_type": "code",
   "execution_count": 16,
   "metadata": {},
   "outputs": [],
   "source": [
    "data AM1Instr\n",
    "    = PUSH Z\n",
    "    | ADD\n",
    "    | MULT\n",
    "    | SUB\n",
    "    | TRUE\n",
    "    | FALSE\n",
    "    | EQUAL\n",
    "    | LE\n",
    "    | GE\n",
    "    | LTHAN\n",
    "    | AND\n",
    "    | OR\n",
    "    | NEG\n",
    "    | PUT Z\n",
    "    | GET Z\n",
    "    | NOOP\n",
    "    | BRANCH AM1Code AM1Code\n",
    "    | LOOP AM1Code AM1Code\n",
    "    deriving (Eq, Show)\n",
    "\n",
    "type AM1Code = [AM1Instr]"
   ]
  },
  {
   "cell_type": "markdown",
   "metadata": {},
   "source": [
    "`aexpToAM1Code` e `bexpToAM1Code` correspondem a $\\mathcal{C}\\mathcal{A}$ e $\\mathcal{C}\\mathcal{B}$, respetivamente.  \n",
    "Para poderem fazer sempre a associação correta entre variáveis, recebem como argumento um `EnvStateAM1` que é atualizado e passado às chamadas recursivas.\n",
    "\n",
    "Note-se que se poderia fazer uso da mónade [`State`](https://hackage.haskell.org/package/mtl-2.2.2/docs/Control-Monad-State-Strict.html#t:State), e de facto, é isto que acontece na implementação de AM2/AM3."
   ]
  },
  {
   "cell_type": "code",
   "execution_count": 17,
   "metadata": {},
   "outputs": [],
   "source": [
    "aexpToAM1Code :: EnvStateAM1 -> Aexp -> (AM1Code, EnvStateAM1)\n",
    "aexpToAM1Code m@(EnvSt e nxtAdr) a = case a of\n",
    "    Num n -> ([PUSH n], m)\n",
    "        ...\n",
    "\n",
    "bexpToAM1Code :: EnvStateAM1 -> Bexp -> (AM1Code, EnvStateAM1)\n",
    "bexpToAM1Code m@(EnvSt e nxtAdr) b = case b of\n",
    "    T -> ([TRUE], m)\n",
    "    F -> ([FALSE], m)\n",
    "        ..."
   ]
  },
  {
   "cell_type": "code",
   "execution_count": 18,
   "metadata": {},
   "outputs": [],
   "source": [
    "whileToAM1 :: Stm -> (AM1Code, EnvStateAM1)\n",
    "whileToAM1 stm = St.runState (helper stm) (EnvSt M.empty 0)\n",
    "    where\n",
    "        helper :: Stm -> St.State EnvStateAM1 AM1Code\n",
    "        helper (var `Assign` aexp) = do\n",
    "            ...\n",
    "        helper (WhileDo b c) = do\n",
    "            memSt <- St.get\n",
    "            let (predCode, memSt') = bexpToAM1Code memSt b\n",
    "            St.put memSt'\n",
    "            loopCode <- helper c\n",
    "            return [LOOP predCode loopCode]"
   ]
  },
  {
   "cell_type": "code",
   "execution_count": null,
   "metadata": {},
   "outputs": [
    {
     "data": {
      "text/plain": [
       "([PUSH 1,PUT 0,LOOP [PUSH 1,GET 1,GE] [GET 1,GET 0,MULT,PUT 0,PUSH 1,GET 1,SUB,PUT 1]],EnvSt {getEnvSt = fromList [(\"f\",0),(\"n\",1)], getNxtAdr = 2})"
      ]
     },
     "metadata": {},
     "output_type": "display_data"
    }
   ],
   "source": [
    "whileToAM1 fact"
   ]
  },
  {
   "cell_type": "markdown",
   "metadata": {},
   "source": [
    "Uma configuração de AM1 é de tipo $\\text{Code} \\times \\text{Stack} \\times \\text{Memory}$; abaixo definem-se os últimos dois tipos.  \n",
    "\n",
    "* O tipo $\\text{Stack}$ é uma lista de `Either Z Bool` - note-se que uma operação que espere ter um `x : Left Z` no topo da pilha e encontra `y : Right Bool` lançará erro, e vice-versa.\n",
    "* Tanto aqui como na AM3, usa-se um `Map` para definir `Memory`, que é um mapeamento dos endereços calculados durante a compilação para os valores das variáveis correspondentes."
   ]
  },
  {
   "cell_type": "code",
   "execution_count": 19,
   "metadata": {},
   "outputs": [],
   "source": [
    "type Stack = [Either Z Bool]\n",
    "\n",
    "type Memory = M.Map Z Z\n",
    "\n",
    "type AM1Config = (AM1Code, Stack, Memory)"
   ]
  },
  {
   "cell_type": "markdown",
   "metadata": {},
   "source": [
    "### Semântica Operacional de AM1"
   ]
  },
  {
   "cell_type": "markdown",
   "metadata": {},
   "source": [
    "Define-se de seguida a semântica operacional das operações $\\text{PUT-}n$ e $\\text{GET-}n$.  \n",
    "Todas as outras permanecem iguais às definidas no material da bibliografia da UC.\n",
    "\n",
    "Notas:\n",
    "* Para definir a semântica operacional das instruções $\\text{PUT-}n$ e $\\text{GET-}n$, o `Map Z Z` que associa endereços de variáveis a valores é formalizado como uma lista, ou seja, $\\text{Memory} = \\text{Z}^*$.\n",
    "* Dado $m : \\text{Memory}$, tem-se que $m[n]$ representa o valor no endereço $n$, a começar em 0, se este endereço existir.\n",
    "  * Se o endereço especificado não existir, a semântica operacional não está definida, e a implementação lança um erro em Haskell."
   ]
  },
  {
   "cell_type": "markdown",
   "metadata": {},
   "source": [
    "$$\n",
    "\\begin{aligned}\n",
    "& \\langle \\text{PUT-}n : cs, z : e, m \\rangle \\quad && \\triangleright \\quad\n",
    "\\begin{cases}\n",
    "\\langle cs, e, m' \\rangle \\qquad & \\text{se} \\ 0 \\leq n \\lt |m| \\text{, e}\\ m' = m \\ \\text{, com } \\ m = m' \\ \\text{exceto em} \\ n: m' [n] = z. \\\\\n",
    "\\bot \\qquad & \\text{se } \\lnot(\\ 0 \\leq n \\lt |m|). \\\\\n",
    "\\end{cases} \\\\\n",
    "\n",
    "& \\langle \\text{GET-}n : cs, z : e, m \\rangle \\quad && \\triangleright \\quad\n",
    "\\begin{cases}\n",
    "\\langle cs, z : e, m \\rangle \\qquad & \\text{se} \\ 0 \\leq n \\leq |m| \\text{, e}\\ z = m[n].\\\\\n",
    "\\bot \\qquad & \\text{se} \\ \\lnot(0 \\leq n \\leq |m| \\text{, e}\\ z = m[n]).\\\\\n",
    "\\end{cases} \\\\\n",
    "\n",
    "\\end{aligned}\n",
    "$$"
   ]
  },
  {
   "cell_type": "markdown",
   "metadata": {},
   "source": [
    "`stepAM1` recebe uma configuração, e dá um passo de execução da máquina AM1.  \n",
    "A função tem que ser definida para todos os casos de `AM1Instr`, pelo que por brevidade apenas se deixaram alguns exemplos."
   ]
  },
  {
   "cell_type": "code",
   "execution_count": 20,
   "metadata": {},
   "outputs": [],
   "source": [
    "stepAM1 :: AM1Config -> AM1Config\n",
    "stepAM1 conf@([], stack, mem) = conf\n",
    "stepAM1 (c : cs, stack, mem) = case c of\n",
    "    PUSH n -> (cs, Left n : stack, mem)\n",
    "    ADD -> case stack of\n",
    "        Left z1 : Left z2 : stack' ->\n",
    "            (cs, Left (z1 + z2) : stack, mem)\n",
    "        _ -> error \"ADD: invalid stack for operation!\"\n",
    "    ...\n",
    "    BRANCH ins ins' -> case stack of\n",
    "      Right b : stack' ->\n",
    "          let instr = if b then ins else ins'\n",
    "          in (instr, stack', mem)\n",
    "      _   -> error \"BRANCH: invalid stack for operator!\"\n",
    "\n",
    "    LOOP ins ins' -> (ins ++ [BRANCH (ins' ++ [LOOP ins ins']) [NOOP]] ++ cs, stack, mem)"
   ]
  },
  {
   "cell_type": "markdown",
   "metadata": {},
   "source": [
    "Para poder executar um programa $\\text{While}$ na máquina AM1, é preciso um estado inicial a partir do qual se carregarão os valores iniciais das variáveis em memória.\n",
    "\n",
    "A função `initConfigAM1` faz o descrito acima, devolvendo também o `Env` calculado após compilar o programa em \"*bytecode*\" AM1 - isto é necessário porque:\n",
    "* a compilação $\\text{While} \\rightarrow \\text{AM1Code}$ produz um mapeamento $\\text{Var} \\rightarrow \\text{Addr}$\n",
    "* após execução da máquina abstrata em `runStmInAM1` tem-se um mapeamento entre $\\text{Addr} \\rightarrow \\text{Z}$ (variáveis a valores finais)\n",
    "\n",
    "donde, para poder devolver os valores finais de cada variável, são necessários ambos `Env` e `Memory`."
   ]
  },
  {
   "cell_type": "code",
   "execution_count": 27,
   "metadata": {},
   "outputs": [],
   "source": [
    "initConfigAM1 :: State -> Stm -> (AM1Config, Env)\n",
    "\n",
    "-- Devolve as variáveis usadas no programa, e os valores que estavam nas respetivas\n",
    "-- posições de memória aquando da terminação da execução.\n",
    "-- Pode não terminar! (Halting problem).\n",
    "runStmInAM1 :: State -> Stm -> M.Map Var Z"
   ]
  },
  {
   "cell_type": "code",
   "execution_count": 34,
   "metadata": {},
   "outputs": [
    {
     "data": {
      "text/plain": [
       "fromList [(\"m\",0),(\"x\",3),(\"y\",2),(\"z\",0)]"
      ]
     },
     "metadata": {},
     "output_type": "display_data"
    },
    {
     "data": {
      "text/plain": [
       "fromList [(\"n\",3),(\"x\",2),(\"y\",3)]"
      ]
     },
     "metadata": {},
     "output_type": "display_data"
    },
    {
     "data": {
      "text/plain": [
       "fromList [(\"r\",9),(\"x\",3),(\"y\",0)]"
      ]
     },
     "metadata": {},
     "output_type": "display_data"
    },
    {
     "data": {
      "text/plain": [
       "fromList [(\"f\",720),(\"n\",0)]"
      ]
     },
     "metadata": {},
     "output_type": "display_data"
    }
   ],
   "source": [
    "runStmInAM1 ex1State minProg\n",
    "runStmInAM1 ex1State swap\n",
    "runStmInAM1 ex1State expProg\n",
    "runStmInAM1 ex1State fact"
   ]
  },
  {
   "cell_type": "markdown",
   "metadata": {},
   "source": [
    "## Máquinas Abstratas 2 e 3 (AM3)"
   ]
  },
  {
   "cell_type": "markdown",
   "metadata": {},
   "source": [
    "Em Nielson, H. e Nielson F (2007) [1] p. 74, além de AM1, definem-se mais duas versões de máquinas abstratas, AM2 e AM3.  \n",
    "AM2 é a apresentada na Ficha 3, e AM3 é igual à anterior, mas sem a operação `LABEL-l`, e cujos saltos usam enddereços absolutos.\n",
    "\n",
    "De seguida apresentam-se as duas máquinas."
   ]
  },
  {
   "cell_type": "markdown",
   "metadata": {},
   "source": [
    "---"
   ]
  },
  {
   "cell_type": "markdown",
   "metadata": {},
   "source": [
    "O tipo `Env` seguinte é semelhante àquele definido em AM1, acrescentado de uma noção de *program counter*."
   ]
  },
  {
   "cell_type": "code",
   "execution_count": null,
   "metadata": {},
   "outputs": [],
   "source": [
    "type Env = M.Map Var Z\n",
    "\n",
    "type NextAddr = Z\n",
    "\n",
    "-- Program counter associated with each instruction.\n",
    "-- Must be positive, starts at 1, each instruction has a unique PC value,\n",
    "-- and strictly increases by 1 unit with every atomic instruction.\n",
    "type ProgramCounter = Z\n",
    "\n",
    "type Label = Z\n",
    "\n",
    "type Stack = [Either Z Bool]\n",
    "\n",
    "type Memory = M.Map Z Z"
   ]
  },
  {
   "cell_type": "markdown",
   "metadata": {},
   "source": [
    "Como referido na Ficha 3, as instruções `LABEL-l, JUMP-l, JUMPFALSE-l` de AM2, AM3 substituem `BRANCH` e `LOOP`."
   ]
  },
  {
   "cell_type": "code",
   "execution_count": null,
   "metadata": {},
   "outputs": [],
   "source": [
    "data AM2Instr\n",
    "    = PUSH Z\n",
    "    | ...\n",
    "    | LABEL Label\n",
    "    | JUMP Label\n",
    "    | JUMPFALSE Label\n",
    "    deriving (Eq, Show)\n",
    "\n",
    "type AM2Code = [AM2Instr]"
   ]
  },
  {
   "cell_type": "code",
   "execution_count": 51,
   "metadata": {},
   "outputs": [],
   "source": [
    "data AM3Instr\n",
    "    = PUSH Z\n",
    "    | ...\n",
    "    | JUMP ProgramCounter\n",
    "    | JUMPFALSE ProgramCounter\n",
    "    deriving (Eq, Show)\n",
    "\n",
    "type AM3Code = [AM3Instr]"
   ]
  },
  {
   "cell_type": "markdown",
   "metadata": {},
   "source": [
    "### Configurações e conversão While $\\rightarrow$ AM *bytecode*"
   ]
  },
  {
   "cell_type": "markdown",
   "metadata": {},
   "source": [
    "Configurações de AM2 e AM3 são similares às de AM1, acrescidas do valor de $\\text{pc} : \\text{N}$.  \n",
    "Para representar um programa de AM2/AM3 juntamente com *program counters*, escolheu-se usar um `Map` entre o valor de `pc` para uma dada instrução, e a instrução em si.  \n",
    "\n",
    "À semelhança do que se fez para AM1,\n",
    "\n",
    "* À medida que se compila o código de AM2/AM3, vão-se atribuindo posições em memória na primeira ocorrência de cada variável\n",
    "  * os ADT `EnvStateAM2/EnvStateAM3` registam esta informação. Incialmente, o mapeamento tem que ser `Map.empty`, e o próximo endereço `0`.\n",
    "* À medida que se compila o código de AM2/AM3, vão-se atribuindo números inteiros positivos únicos e estritamente crescentes às instruções, começando em `1`.\n",
    "  * O campo `getNxtPC :: ProgramCounter` contém o valor de PC a ser usado na próxima instrução, se existir.\n",
    "  * O campo `getInstrs :: AM3AnnotatedProgram` contém o programa à medida que se traduz código `While` para **bytecode** `AM3`.\n",
    "\n",
    "Só na AM2:\n",
    "  * guarda-se um `Map` entre labels `l` (começam em 0) e o `pc` onde ocorre a instrução `LABEL-l`.\n",
    "  * o campo `getNxtLabel :: Label` regista, durante o process de compilação, o próximo valor livre para se criarem etiquetas novas."
   ]
  },
  {
   "cell_type": "code",
   "execution_count": 52,
   "metadata": {},
   "outputs": [],
   "source": [
    "type AM2Config = (ProgramCounter, AM2Code, Stack, Memory)\n",
    "type AM3Config = (ProgramCounter, AM3Code, Stack, Memory)\n",
    "\n",
    "type AM2AnnotatedProgram = M.Map ProgramCounter AM2Instr\n",
    "type AM3AnnotatedProgram = M.Map ProgramCounter AM3Instr"
   ]
  },
  {
   "cell_type": "code",
   "execution_count": 53,
   "metadata": {},
   "outputs": [],
   "source": [
    "data EnvStateAM2 = EnvSt2 {\n",
    "    getEnvSt     :: !Env,\n",
    "    getNxtAdr    :: !NextAddr,\n",
    "    getInstrs    :: AM2AnnotatedProgram,\n",
    "    getNxtPC     :: ProgramCounter,\n",
    "    getLabelLocs :: LabelLocations,\n",
    "    getNxtLabel  :: Label\n",
    "    } deriving (Eq)\n",
    "\n",
    "data EnvStateAM3 = EnvSt2 {\n",
    "    getEnvSt  :: !Env,\n",
    "    getNxtAdr :: !NextAddr,\n",
    "    getInstrs :: AM3AnnotatedProgram,\n",
    "    getNxtPC  :: ProgramCounter\n",
    "    } deriving (Eq)"
   ]
  },
  {
   "cell_type": "markdown",
   "metadata": {},
   "source": [
    "---"
   ]
  },
  {
   "cell_type": "markdown",
   "metadata": {},
   "source": [
    "### Tradução de expressões aritméticas e booleanas para \"_bytecode_\" AM2/AM3"
   ]
  },
  {
   "cell_type": "markdown",
   "metadata": {},
   "source": [
    "`aexpToAM2Code/aexpToAM3Code` e `bexpToAM2Code/bexpToAM3Code` correspondem a $\\mathcal{C}\\mathcal{A}$ e $\\mathcal{C}\\mathcal{B}$ para a máquina AM3, e como referido na seção sobre AM1, fazem uso da mónade `State` para poderem atualizar o `Env` com novas associações variável $\\rightarrow$ endereço.  \n",
    "\n",
    "Veja-se que por se usar a mónade `State`, pode-se utilizar funções como [`modify'`](https://hackage.haskell.org/package/mtl-2.2.2/docs/Control-Monad-State-Strict.html#v:modify-39-) para ir atualizando a estrutura `EnvStateAM3` com a instrução em que se está, e o seu valor de `pc`.\n",
    "\n",
    "Manteve-se um excerto do código para ilustrar."
   ]
  },
  {
   "cell_type": "code",
   "execution_count": 56,
   "metadata": {},
   "outputs": [],
   "source": [
    "aexpToAM3Code :: Aexp -> St.State EnvStateAM3 AM3Code\n",
    "\n",
    "bexpToAM3Code :: Bexp -> St.State EnvStateAM3 AM3Code\n",
    "bexpToAM3Code b = case b of\n",
    "    ...\n",
    "    be `Or` be' -> do\n",
    "        -- Careful with the order with which this is done - whichever is done first\n",
    "        -- puts its code on the stack first, so the second operand has to go first.\n",
    "        code' <- bexpToAM3Code be'\n",
    "        code <- bexpToAM3Code be\n",
    "        St.modify' (\\(EnvSt2 environ nxtAdr instrs nxtPC) -> EnvSt2 environ nxtAdr (M.insert nxtPC OR instrs) (nxtPC + 1))\n",
    "        return $ concat [code', code, [OR]]\n",
    "    ..."
   ]
  },
  {
   "cell_type": "code",
   "execution_count": 58,
   "metadata": {},
   "outputs": [],
   "source": [
    ":ext FlexibleContexts"
   ]
  },
  {
   "cell_type": "markdown",
   "metadata": {},
   "source": [
    "As funções `whileToAM2 :: Stm -> (AM2Code, EnvStateAM2)` e `whileToAM3 :: Stm -> (AM3Code, EnvStateAM3)` geram o \"*bytecode*\" AM2/AM3 para um programa `While`, devolvendo também um valor de tipo `EnvStateAM2/EnvStateAM3` que conterão os programas AM2/AM3 finais anotado com `pc`s.\n",
    "\n",
    "O código máquina gerado para os comandos `IfThenElse` e `WhileDo` é complexo porque:\n",
    "* deve primeiro gerar o código dos subcomandos e predicados,\n",
    "* e só depois colocar as instruções de salto e labels, cujo \"*program counter*\" (\"*label*\" no caso de AM2) terá de ser guardado antes da tradução dos subcomandos.\n",
    "\n",
    "Veja-se a função `incrCounter` usada para obter o contador atual de `EnvStateAM3`, e incrementá-lo na estrutura sem mais nenhuma alteração.  \n",
    "Depois de gerado o código de e.g. predicado e \"*branches*\" de `IfThenElse` ou do corpo do ciclo de `WhileDo`, pode-se gerar as instruções de controlo `LABEL/JUMPFALSE/JUMP/LABEL` com os contadores obtidos.\n",
    "\n",
    "O caso AM2 com \"*labels*\" é similar."
   ]
  },
  {
   "cell_type": "code",
   "execution_count": null,
   "metadata": {},
   "outputs": [],
   "source": [
    "whileToAM3 :: Stm -> (AM3Code, EnvStateAM3)\n",
    "whileToAM3 stm = St.runState (helper stm) (EnvSt2 M.empty 0 M.empty 1)\n",
    "    where\n",
    "        incrCounter = do\n",
    "            EnvSt2 e nA is nxtPC <- St.get\n",
    "            St.put $ EnvSt2 e nA is $ nxtPC + 1\n",
    "            return nxtPC\n",
    "\n",
    "        helper :: Stm -> St.State EnvStateAM3 AM3Code\n",
    "        helper (var `Assign` aexp) = do\n",
    "            ...\n",
    "        helper Skip = do\n",
    "            ...\n",
    "        helper (c1 `Comp` c2) = do\n",
    "            code1 <- helper c1\n",
    "            code2 <- helper c2\n",
    "            return $ code1 ++ code2\n",
    "\n",
    "        helper (IfThenElse b c1 c2) = do\n",
    "            ...\n",
    "\n",
    "        helper (WhileDo b c) = do\n",
    "            boolTestCounter <- getCounter\n",
    "            predCode <- bexpToAM3Code b\n",
    "            jzProgCounter <- incrCounter\n",
    "            loopCode <- helper c\n",
    "            jumpCounter <- incrCounter\n",
    "            afterWhileCounter <- incrCounter\n",
    "            let whileJump  = JUMPFALSE afterWhileCounter\n",
    "                loopJump   = JUMP boolTestCounter\n",
    "                afterWhile = NOOP\n",
    "            EnvSt2 environ nxtAdr instrs _ <- St.get\n",
    "            let jumps = M.fromList [(jzProgCounter, whileJump), (jumpCounter, loopJump), (afterWhileCounter, afterWhile)]\n",
    "            St.put $ EnvSt2 environ nxtAdr (instrs `M.union` jumps) afterWhileCounter\n",
    "\n",
    "            return $ predCode ++ [whileJump] ++ loopCode ++ [loopJump]"
   ]
  },
  {
   "cell_type": "markdown",
   "metadata": {},
   "source": [
    "### Semântica Operacional de AM2 e AM3"
   ]
  },
  {
   "cell_type": "markdown",
   "metadata": {},
   "source": [
    "Às outras operações de AM e AM1 já definidas, incrementa-se o \"*program counter*\" após cada transição, e acrescentam-se as seguintes transições:\n",
    "\n",
    "* Para AM2\n",
    "\n",
    "$$\n",
    "\\begin{aligned}\n",
    "\n",
    "& \\langle pc, \\text{LABEL-}l : cs, e, m \\rangle \\quad && \\triangleright \\quad \\langle pc + 1, cs, e, m \\rangle \\\\\n",
    "\n",
    "\n",
    "& \\langle pc, \\text{JUMPFALSE-}l : cs, t : e, m \\rangle \\quad && \\triangleright \\quad\n",
    "\\begin{cases}\n",
    "\\langle pc + 1, cs, e, m \\rangle \\ & \\text{se} \\ t = \\text{tt} \\\\\n",
    "\\langle pc', \\text{code}[pc':], e, m \\rangle \\ & \\text{se} \\ t = \\text{ff, } \\exists pc' . code[pc'] = \\text{LABEL-}l \\text{, e } 0 \\leq pc' \\lt |code| \\\\\n",
    "\\bot \\ & \\text{se} \\ t = \\text{ff, e } \\lnot(\\exists pc' . code[pc'] = \\text{LABEL-}l \\text{, e } 0 \\leq pc' \\lt |code|) \\\\\n",
    "\\end{cases} \\\\\n",
    "\n",
    "& \\langle pc, \\text{JUMP-}l : cs, z : e, m \\rangle \\quad && \\triangleright \\quad \n",
    "\\begin{cases}\n",
    "\\langle pc', \\text{code}[pc':], e, m \\rangle \\ & \\text{se } \\exists pc' . code[pc'] = \\text{LABEL-}l \\text{, e } 0 \\leq pc' \\lt |code| \\\\\n",
    "\\bot \\ & \\text{se} \\ \\lnot(\\exists pc' . code[pc'] = \\text{LABEL-}l \\text{, e } 0 \\leq pc' \\lt |code|) \\\\\n",
    "\\end{cases}\n",
    "\\end{aligned}\n",
    "$$\n",
    "\n",
    "A notação $code[pc:]$ representa, dado um programa completo $code : \\text{Code}$ - que é um valor da categoria sintática das sequências de instruções - todas as instruções a partir do índice $pc$, assumindo que é válido."
   ]
  },
  {
   "cell_type": "markdown",
   "metadata": {},
   "source": [
    "* Para AM3\n",
    "\n",
    "$$\n",
    "\\begin{aligned}\n",
    "\n",
    "& \\langle pc, \\text{JUMPFALSE-}l : cs, t : e, m \\rangle \\quad && \\triangleright \\quad\n",
    "\\begin{cases}\n",
    "\\langle pc + 1, cs, e, m \\rangle \\ & \\text{se} \\ t = \\text{tt} \\\\\n",
    "\\langle l, \\text{code}[l:], e, m \\rangle \\ & \\text{se} \\ t = \\text{ff, e } 0 \\leq l \\lt |code| \\\\\n",
    "\\bot \\ & \\text{se} \\ t = \\text{ff, e } \\lnot(0 \\leq l \\lt |code|) \\\\\n",
    "\\end{cases} \\\\\n",
    "\n",
    "& \\langle pc, \\text{JUMP-}l : cs, z : e, m \\rangle \\quad && \\triangleright \\quad \n",
    "\\begin{cases}\n",
    "\\langle l, \\text{code}[l:], e, m \\rangle \\ & \\text{se} \\ 0 \\leq l \\lt |code| \\\\\n",
    "\\bot \\ & \\text{se} \\ \\lnot(0 \\leq l \\lt |code|) \\\\\n",
    "\\end{cases}\n",
    "\\end{aligned}\n",
    "$$"
   ]
  },
  {
   "cell_type": "markdown",
   "metadata": {},
   "source": [
    "---"
   ]
  },
  {
   "cell_type": "markdown",
   "metadata": {},
   "source": [
    "Como para AM1 com `stepAM1`, as funções `stepAM2/stepAM3` fazem uma transição - se possível - a partir de uma configuração AM2/AM3.  \n",
    "Deixam-se apenas alguns casos para ilustrar o seu funcionamento, e nota-se o seguinte:\n",
    "\n",
    "* Nas instruções de AM2/AM3 que requerem saltos referentes a valores de `pc`, o campo `getInstrs :: AM3AnnotatedProgram` em `EnvStateAM2/EnvStateAM3` permite obter segmentos do \"*bytecode*\" am2/AM3 ao filtrar o `Map ProgramCounter (AM2Instr/AM3Instr)` pelas chaves que correspondam ao programa a partir de uma certa `label :: ProgramCounter` (ver `initConfigAM2/initConfigAM3`)."
   ]
  },
  {
   "cell_type": "code",
   "execution_count": 60,
   "metadata": {},
   "outputs": [],
   "source": [
    "stepAM3 :: AM3Config -> AM3AnnotatedProgram -> AM3Config\n",
    "stepAM3 conf@(_, [], stack, mem) _ = conf\n",
    "stepAM3 (pc, c : cs, stack, mem) ann = case c of\n",
    "    LABEL lab -> (pc', cs, stack, mem)\n",
    "    JUMP lab -> case M.lookup lab ann of\n",
    "        Nothing    -> error \"JUMP: invalid label!\"\n",
    "        Just instr ->\n",
    "            let instrs = M.elems $ M.dropWhileAntitone (<= lab) ann\n",
    "            in (lab, instr : instrs, stack, mem)\n",
    "    JUMPFALSE lab -> case stack of\n",
    "        Right b : stack' -> if b\n",
    "                then (pc', cs, stack', mem)\n",
    "                else case M.lookup lab ann of\n",
    "                    Nothing    -> error \"JUMPFALSE: invalid label!\"\n",
    "                    Just instr ->\n",
    "                        let instrs = M.elems $ M.dropWhileAntitone (<= lab) ann\n",
    "                        in (lab, instr : instrs, stack', mem)\n",
    "        _            -> error \"JUMPFALSE: invalid stack for operation\"\n",
    "\n",
    "    where\n",
    "        pc' = pc + 1"
   ]
  },
  {
   "cell_type": "markdown",
   "metadata": {},
   "source": [
    "As funções `initConfigAM2/initConfigAM3` produzem, para um programa `While` e um estado inicial:\n",
    "* a configuração inicial do programa para máquina AM2/AM3, acompanhada do\n",
    "* `Env` resultante da compilação, pelos mesmos motivos que AM1, e\n",
    "* o mesmo programa AM3, mas anotado com `pc`s.\n",
    "\n",
    "A configuração inicial de um programa para AM2/AM3 precisa vir acompanhada de um Map com a associação entre cada instrução e o seu program counter - e no caso AM2, com a associação entre cada label e o `pc` onde está a instrução `LABEL` - porque no caso das instruções de salto em que é possível \"regredir\" no programa, usar só uma lista para instruções não o permitirá.\n",
    "\n",
    "---\n",
    "\n",
    "As funções `runStmInAM2/runStmInAM3` são as equivalentes de `runStmInAM1` em AM2/AM3."
   ]
  },
  {
   "cell_type": "code",
   "execution_count": 61,
   "metadata": {},
   "outputs": [],
   "source": [
    "initConfigAM3 :: State -> Stm -> (AM2Config, Env, AM2AnnotatedProgram)\n",
    "\n",
    "initConfigAM3 :: State -> Stm -> (AM3Config, Env, AM3AnnotatedProgram)\n",
    "initConfigAM3 initSt stm =\n",
    "    let code :: AM3Code\n",
    "        envSt :: EnvStateAM3\n",
    "        (code, envSt) = whileToAM3 stm\n",
    "\n",
    "        environ = getEnvSt envSt\n",
    "        annotatedByteCode = getInstrs envSt--M.fromList $ zip (M.keys . getInstrs $ envSt) code\n",
    "\n",
    "        memory :: Memory\n",
    "        memory = M.fromList [(getEnv environ variable, getSt initSt variable) | variable <- M.keys environ]\n",
    "    in ((1, code, [], memory), environ, annotatedByteCode)\n",
    "\n",
    "-- Dado um estado inicial e um comando da linguagem while, simula a sua execução\n",
    "-- na máquina abstrata AM3.\n",
    "-- Devolve as variáveis usadas no programa, e os valores que estavam nas respetivas\n",
    "-- posições de memória aquando da terminação da execução.\n",
    "-- Pode não terminar! (Halting problem).\n",
    "runStmInAM2 :: State -> Stm -> M.Map Var Z\n",
    "runStmInAM3 :: State -> Stm -> M.Map Var Z"
   ]
  },
  {
   "cell_type": "code",
   "execution_count": 63,
   "metadata": {},
   "outputs": [
    {
     "data": {
      "text/plain": [
       "fromList [(\"r\",9),(\"x\",3),(\"y\",0)]"
      ]
     },
     "metadata": {},
     "output_type": "display_data"
    },
    {
     "data": {
      "text/plain": [
       "fromList [(\"f\",720),(\"n\",0)]"
      ]
     },
     "metadata": {},
     "output_type": "display_data"
    }
   ],
   "source": [
    "runStmInAM3 ex1State expProg\n",
    "runStmInAM3 ex1State fact"
   ]
  },
  {
   "cell_type": "markdown",
   "metadata": {},
   "source": [
    "## Referências"
   ]
  },
  {
   "cell_type": "markdown",
   "metadata": {},
   "source": [
    "[1] Nielson, H. R., & Nielson, F. (2007). Semantics with Applications: An Appetizer (Undergraduate Topics in Computer Science) (2007th ed.). Springer London."
   ]
  }
 ],
 "metadata": {
  "kernelspec": {
   "display_name": "Haskell",
   "language": "haskell",
   "name": "haskell"
  },
  "language_info": {
   "codemirror_mode": "ihaskell",
   "file_extension": ".hs",
   "mimetype": "text/x-haskell",
   "name": "haskell",
   "pygments_lexer": "Haskell",
   "version": "8.10.7"
  },
  "orig_nbformat": 4
 },
 "nbformat": 4,
 "nbformat_minor": 2
}
