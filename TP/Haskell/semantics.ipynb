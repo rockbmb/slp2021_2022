{
 "cells": [
  {
   "cell_type": "markdown",
   "metadata": {},
   "source": [
    "# Licenciatura em Ciências da Computação"
   ]
  },
  {
   "cell_type": "markdown",
   "metadata": {},
   "source": [
    "# Semântica de Linguagens de Programação 2021/2022"
   ]
  },
  {
   "cell_type": "markdown",
   "metadata": {},
   "source": [
    "## A70373 Alexandre Rodrigues Baldé"
   ]
  },
  {
   "cell_type": "markdown",
   "metadata": {},
   "source": [
    "## Conteúdo:\n",
    "\n",
    "1. [Tipos de dados básicos, exemplos de programas While](#section1)\n",
    "2. [Semântica Natural](#natural-semantics)\n",
    "3. [Semântica Operacional Estrutural](#structural-operational-semantics)\n",
    "4. Detalhes de Implementação da AM1\n",
    "5. Detalhes de Implementação da AM2"
   ]
  },
  {
   "cell_type": "markdown",
   "metadata": {},
   "source": [
    "---"
   ]
  },
  {
   "cell_type": "markdown",
   "metadata": {},
   "source": [
    "<a id='section1'></a>"
   ]
  },
  {
   "cell_type": "markdown",
   "metadata": {},
   "source": [
    "## Tipos de dados básicos, exemplos de programas While"
   ]
  },
  {
   "cell_type": "code",
   "execution_count": 25,
   "metadata": {},
   "outputs": [],
   "source": [
    ":ext InstanceSigs\n",
    ":ext BangPatterns"
   ]
  },
  {
   "cell_type": "code",
   "execution_count": 2,
   "metadata": {},
   "outputs": [],
   "source": [
    "import qualified Data.Map   as M\n",
    "import qualified Data.Maybe as Maybe\n",
    "\n",
    "import           Data.List (intercalate)\n",
    "\n",
    "-- For Natural Semantics\n",
    "import qualified Control.Monad.State.Strict as St\n",
    "import           Control.Monad              (when)"
   ]
  },
  {
   "cell_type": "code",
   "execution_count": 3,
   "metadata": {},
   "outputs": [],
   "source": [
    "type Z = Integer\n",
    "\n",
    "type Var = String\n",
    "\n",
    "data Aexp\n",
    "    = Num Z\n",
    "    | Var Var\n",
    "    | Aexp `Plus` Aexp\n",
    "    | Aexp `Mul` Aexp\n",
    "    | Aexp `Minus` Aexp\n",
    "    deriving Eq\n",
    "\n",
    "instance Show Aexp where\n",
    "    show :: Aexp -> String\n",
    "    show aexp = case aexp of\n",
    "        Num z -> show z\n",
    "        Var v -> v\n",
    "        a1 `Plus` a2 -> show a1 ++ \" + \" ++ show a2\n",
    "        a1 `Mul` a2 -> show a1 ++ \" * \" ++ show a2\n",
    "        a1 `Minus` a2 -> show a1 ++ \" - \" ++ show a2"
   ]
  },
  {
   "cell_type": "code",
   "execution_count": 4,
   "metadata": {},
   "outputs": [],
   "source": [
    "data Bexp\n",
    "    = T\n",
    "    | F\n",
    "    | Aexp `Eq` Aexp\n",
    "    | Aexp `Le` Aexp\n",
    "    | Aexp `Lt` Aexp\n",
    "    | Aexp `Ge` Aexp\n",
    "    | Not Bexp\n",
    "    | Bexp `And` Bexp\n",
    "    | Bexp `Or` Bexp\n",
    "    deriving Eq\n",
    "\n",
    "instance Show Bexp where\n",
    "    show :: Bexp -> String \n",
    "    show bexp = \"(\" ++ helper bexp ++ \")\"\n",
    "        where\n",
    "            helper bexp = case bexp of\n",
    "                T -> \"true\"\n",
    "                F -> \"false\"\n",
    "                ae `Eq` ae' -> show ae ++ \" == \" ++ show ae'\n",
    "                ae `Le` ae' -> show ae ++ \" <= \" ++ show ae'\n",
    "                ae `Lt` ae' -> show ae ++ \" < \" ++ show ae'\n",
    "                ae `Ge` ae' -> show ae ++ \" >= \" ++ show ae'\n",
    "                Not be -> \"not (\" ++ show be ++ \")\"\n",
    "                be `And` be' -> show be ++ \" && \" ++ show be'\n",
    "                be `Or` be' -> show be ++ \" || \" ++ show be'"
   ]
  },
  {
   "cell_type": "code",
   "execution_count": 5,
   "metadata": {},
   "outputs": [],
   "source": [
    "type State = M.Map Var Z\n",
    "\n",
    "getSt :: State -> Var -> Z\n",
    "getSt st var = Maybe.fromMaybe 0 (M.lookup var st)\n",
    "\n",
    "-- Alínea b) ii)\n",
    "stUpdate :: State -> Var -> Z -> State\n",
    "stUpdate st var v = M.insert var v st\n",
    "\n",
    "showState :: State -> String\n",
    "showState st =\n",
    "    let pairs = M.toList st\n",
    "        helper :: (Var, Z) -> String\n",
    "        helper (var, num) = var ++ \" := \" ++ show num\n",
    "    in intercalate \"; \" $ map helper pairs"
   ]
  },
  {
   "cell_type": "code",
   "execution_count": 6,
   "metadata": {},
   "outputs": [],
   "source": [
    "subAexp :: Var -> Aexp -> Aexp -> Aexp\n",
    "subAexp y a0 a@(Num _) = a\n",
    "subAexp y a0 (Var x)\n",
    "    | x == y = a0\n",
    "    | otherwise = Var x\n",
    "subAexp y a0 (Plus a1 a2) = Plus (subAexp y a0 a1) (subAexp y a0 a2)\n",
    "subAexp y a0 (Mul a1 a2) = Mul (subAexp y a0 a1) (subAexp y a0 a2)\n",
    "subAexp y a0 (Minus a1 a2) = Minus (subAexp y a0 a1) (subAexp y a0 a2)\n",
    "\n",
    "subBexp :: Var -> Aexp -> Bexp -> Bexp\n",
    "subBexp y a0 a = case a of\n",
    "    T -> T\n",
    "    F -> F\n",
    "    (Eq a1 a2) -> Eq (subAexp y a0 a1) (subAexp y a0 a2)\n",
    "    (Le a1 a2) -> Le (subAexp y a0 a1) (subAexp y a0 a2)\n",
    "    (Lt a1 a2) -> Lt (subAexp y a0 a1) (subAexp y a0 a2)\n",
    "    (Ge a1 a2) -> Ge (subAexp y a0 a1) (subAexp y a0 a2)\n",
    "    (Not b1) -> Not (subBexp y a0 b1)\n",
    "    (And b1 b2) -> And (subBexp y a0 b1) (subBexp y a0 b2)\n",
    "    (Or b1 b2) -> Or (subBexp y a0 b1) (subBexp y a0 b2)\n",
    "\n",
    "arithEval :: Aexp -> (State -> Z)\n",
    "arithEval a st = case a of\n",
    "    Num n -> n\n",
    "    Var x -> getSt st x\n",
    "    Plus a1 a2 -> arithEval a1 st + arithEval a2 st\n",
    "    Mul a1 a2 -> arithEval a1 st * arithEval a2 st\n",
    "    Minus a1 a2 -> arithEval a1 st - arithEval a2 st\n",
    "\n",
    "boolEval :: Bexp -> (State -> Bool)\n",
    "boolEval b st = case b of\n",
    "    T -> True\n",
    "    F -> False\n",
    "    Eq a1 a2  -> arithEval a1 st == arithEval a2 st\n",
    "    Le a1 a2  -> arithEval a1 st <= arithEval a2 st\n",
    "    Lt a1 a2  -> arithEval a1 st < arithEval a2 st\n",
    "    Ge a1 a2  -> arithEval a1 st >= arithEval a2 st\n",
    "    Not b1    -> not (boolEval b1 st)\n",
    "    And b1 b2 -> boolEval b1 st && boolEval b2 st\n",
    "    Or b1 b2  -> boolEval b1 st || boolEval b2 st"
   ]
  },
  {
   "cell_type": "markdown",
   "metadata": {},
   "source": [
    "### State Helpers"
   ]
  },
  {
   "cell_type": "code",
   "execution_count": 7,
   "metadata": {},
   "outputs": [],
   "source": [
    "-- Igual ao tipo State, mas com instância de Show legível.\n",
    "newtype State' = St {\n",
    "    getState :: State\n",
    "    } deriving (Eq)\n",
    "\n",
    "instance Show State' where\n",
    "    show = showState . getState"
   ]
  },
  {
   "cell_type": "markdown",
   "metadata": {},
   "source": [
    "---"
   ]
  },
  {
   "cell_type": "code",
   "execution_count": 8,
   "metadata": {},
   "outputs": [],
   "source": [
    "data Stm\n",
    "    = Var `Assign` Aexp\n",
    "    | Skip\n",
    "    | Stm `Comp` Stm\n",
    "    | IfThenElse Bexp Stm Stm\n",
    "    | WhileDo Bexp Stm\n",
    "    deriving (Eq)\n",
    "\n",
    "instance Show Stm where\n",
    "    show :: Stm -> String\n",
    "    show stm = case stm of\n",
    "        Assign v aexp          -> v ++ \" := \" ++ show aexp\n",
    "        Skip                   -> show \"skip\"\n",
    "        stm1 `Comp` stm2       -> show stm1 ++ \"; \" ++ show stm2\n",
    "        IfThenElse b stm1 stm2 -> \"if \" ++ show b ++ \" then \" ++ show stm1 ++ \" else \" ++ show stm2\n",
    "        WhileDo b stm          -> \"while \" ++ show b ++ \" do \" ++ show stm"
   ]
  },
  {
   "cell_type": "markdown",
   "metadata": {},
   "source": [
    "### Example programs"
   ]
  },
  {
   "cell_type": "markdown",
   "metadata": {},
   "source": [
    "Retirados da ficha 1."
   ]
  },
  {
   "cell_type": "code",
   "execution_count": 28,
   "metadata": {},
   "outputs": [],
   "source": [
    "ex1State :: State\n",
    "ex1State = M.fromList [(\"n\", 6), (\"x\", 3), (\"y\", 2)]\n",
    "\n",
    "swap :: Stm\n",
    "swap = Comp (Comp c1 c2) c3\n",
    "    where\n",
    "        c1 = Assign \"n\" (Var \"x\")\n",
    "        c2 = Assign \"x\" (Var \"y\")\n",
    "        c3 = Assign \"y\" (Var \"n\")\n",
    "\n",
    "minProg :: Stm\n",
    "minProg = IfThenElse b1 if2 if3\n",
    "    where b1 = Lt (Var \"x\") (Var \"y\")\n",
    "          b2 = Lt (Var \"x\") (Var \"z\")\n",
    "          b3 = Lt (Var \"y\") (Var \"z\")\n",
    "          if3 = IfThenElse b3 (Assign \"m\" (Var \"y\")) (Assign \"m\" (Var \"z\"))\n",
    "          if2 = IfThenElse b2 (Assign \"m\" (Var \"x\")) (Assign \"m\" (Var \"z\"))\n",
    "\n",
    "expProg :: Stm\n",
    "expProg = Comp assgn while\n",
    "    where\n",
    "        assgn = Assign \"r\" (Num 1)\n",
    "        while = WhileDo bexp whileStm\n",
    "        bexp = Var \"y\" `Ge` Num 1\n",
    "        whileStm = Comp\n",
    "            (Assign \"r\" (Mul (Var \"r\") (Var \"x\")))\n",
    "            (Assign \"y\" (Minus (Var \"y\") (Num 1)))\n",
    "\n",
    "fact :: Stm\n",
    "fact = Comp assgn while\n",
    "    where\n",
    "        assgn = Assign \"f\" (Num 1)\n",
    "        while = WhileDo bexp whileStm\n",
    "        bexp = Var \"n\" `Ge` Num 1\n",
    "        whileStm = Comp\n",
    "            (Assign \"f\" (Mul (Var \"f\") (Var \"n\")))\n",
    "            (Assign \"n\" (Minus (Var \"n\") (Num 1)))"
   ]
  },
  {
   "cell_type": "markdown",
   "metadata": {},
   "source": [
    "## Natural Semantics"
   ]
  },
  {
   "cell_type": "code",
   "execution_count": 12,
   "metadata": {},
   "outputs": [],
   "source": [
    "evalNS :: State -> Stm -> State\n",
    "evalNS st stm = St.execState (helper stm) st\n",
    "    where\n",
    "        helper :: Stm -> St.State State ()\n",
    "        helper (var `Assign` a) = do\n",
    "            st <- St.get\n",
    "            let n = arithEval a st\n",
    "            St.modify (\\s -> stUpdate s var n)\n",
    "        helper Skip = do\n",
    "            return ()\n",
    "        helper (c1 `Comp` c2) = do\n",
    "            s1 <- helper c1\n",
    "            helper c2\n",
    "        helper (IfThenElse b c1 c2) = do\n",
    "            s <- St.get\n",
    "            if boolEval b s\n",
    "                then helper c1\n",
    "                else helper c2\n",
    "        helper (WhileDo b c) = do\n",
    "            s <- St.get\n",
    "            when (boolEval b s) $ do\n",
    "                    s' <- helper c\n",
    "                    helper (WhileDo b c)"
   ]
  },
  {
   "cell_type": "code",
   "execution_count": 29,
   "metadata": {},
   "outputs": [
    {
     "data": {
      "text/plain": [
       "fromList [(\"f\",720),(\"n\",0),(\"x\",3),(\"y\",2)]"
      ]
     },
     "metadata": {},
     "output_type": "display_data"
    }
   ],
   "source": [
    "evalNS ex1State fact"
   ]
  },
  {
   "cell_type": "code",
   "execution_count": 30,
   "metadata": {},
   "outputs": [
    {
     "data": {
      "text/plain": [
       "fromList [(\"n\",6),(\"r\",9),(\"x\",3),(\"y\",0)]"
      ]
     },
     "metadata": {},
     "output_type": "display_data"
    }
   ],
   "source": [
    "evalNS ex1State expProg"
   ]
  },
  {
   "cell_type": "markdown",
   "metadata": {},
   "source": [
    "## Structural Operational Semantics"
   ]
  },
  {
   "cell_type": "code",
   "execution_count": 10,
   "metadata": {},
   "outputs": [],
   "source": [
    "-- Uma transição em semântica operacional estrutural:\n",
    "-- * ou dá origem a um estado (Left)\n",
    "-- * ou dá origem a um comando intermédio, juntamente com um novo estado (Right)\n",
    "stepSOS :: State -> Stm -> Either State (Stm, State)\n",
    "stepSOS st stm = case stm of\n",
    "    x `Assign` ae ->\n",
    "        let n = arithEval ae st\n",
    "        in Left $ stUpdate st x n\n",
    "    Skip -> Left st\n",
    "    stm1 `Comp` stm2 -> case stepSOS st stm1 of\n",
    "        Left st' -> Right (stm2, st')\n",
    "        Right (stm1', st') -> Right (stm1' `Comp` stm2, st')\n",
    "    IfThenElse be stm1 stm2 -> if boolEval be st\n",
    "        then Right (stm1, st)\n",
    "        else Right (stm2, st)\n",
    "    WhileDo be stm' -> Right (IfThenElse be (stm' `Comp` WhileDo be stm') Skip, st)\n",
    "\n",
    "-- Devolve a transição após o número de passos de execução pedido, se for possível,\n",
    "-- numa lista com todas as transições que lhe precederam.\n",
    "nstepsSOS :: State -> Stm -> Integer -> [Either State' (Stm, State')]\n",
    "nstepsSOS st stm n\n",
    "    | n <= 0 = []\n",
    "    | otherwise = case stepSOS st stm of\n",
    "        Left s -> [Left $ St s]\n",
    "        Right (stm', st') -> Right (stm', St st') : nstepsSOS st' stm' (n - 1)\n",
    "\n",
    "-- Imprimir uma configuração numa string legível\n",
    "-- e.g. mapM_ (putStr . helperSOS) $ nstepsSOS ex1State fact 10\n",
    "helperSOS :: Either State' (Stm, State') -> String\n",
    "helperSOS (Left st) = \"Left: \" ++ show st ++ \";\\n\"\n",
    "helperSOS (Right (stm, st)) =\n",
    "    \"Right: \" ++\n",
    "    show stm ++ \";\\n\" ++\n",
    "    show st ++ \";\\n\"\n",
    "\n",
    "evalSOS :: State -> Stm -> State'\n",
    "evalSOS st stm = St $ helperSOS (Right (stm, st))\n",
    "    where helperSOS :: Either State (Stm, State) -> State\n",
    "          helperSOS (Left st) = st\n",
    "          helperSOS (Right (stm', st')) =\n",
    "              case stepSOS st' stm' of\n",
    "                  Left st''           -> st''\n",
    "                  Right (stm'', st'') -> helperSOS (Right (stm'', st''))"
   ]
  },
  {
   "cell_type": "code",
   "execution_count": 31,
   "metadata": {},
   "outputs": [
    {
     "data": {
      "text/plain": [
       "f := 720; n := 0; x := 3; y := 2"
      ]
     },
     "metadata": {},
     "output_type": "display_data"
    }
   ],
   "source": [
    "evalSOS ex1State fact"
   ]
  },
  {
   "cell_type": "code",
   "execution_count": 32,
   "metadata": {},
   "outputs": [
    {
     "data": {
      "text/plain": [
       "n := 6; r := 9; x := 3; y := 0"
      ]
     },
     "metadata": {},
     "output_type": "display_data"
    }
   ],
   "source": [
    "evalSOS ex1State expProg"
   ]
  },
  {
   "cell_type": "markdown",
   "metadata": {},
   "source": [
    "## Abstract Machine 1"
   ]
  },
  {
   "cell_type": "code",
   "execution_count": 15,
   "metadata": {},
   "outputs": [],
   "source": [
    "-- Mapping from variable names to positions in memory.\n",
    "-- Used during \"compilation\" of While code to AM1 bytecode.\n",
    "type Env = M.Map Var Z\n",
    "\n",
    "getEnv :: Env -> Var -> Z\n",
    "getEnv e var = e M.! var\n",
    "\n",
    "type NextAddr = Z\n",
    "\n",
    "data EnvStateAM1 = EnvSt {\n",
    "    getEnvSt :: !Env,\n",
    "    getNxtAdr :: !NextAddr\n",
    "    } deriving (Eq, Show)"
   ]
  },
  {
   "cell_type": "code",
   "execution_count": 16,
   "metadata": {},
   "outputs": [],
   "source": [
    "getEnv :: Env -> Var -> Z\n",
    "getEnv e var = e M.! var\n",
    "\n",
    "data AM1Instr\n",
    "    = PUSH Z\n",
    "    | ADD\n",
    "    | MULT\n",
    "    | SUB\n",
    "    | TRUE\n",
    "    | FALSE\n",
    "    | EQUAL\n",
    "    | LE\n",
    "    | GE\n",
    "    | LTHAN\n",
    "    | AND\n",
    "    | OR\n",
    "    | NEG\n",
    "    | PUT Z\n",
    "    | GET Z\n",
    "    | NOOP\n",
    "    | BRANCH AM1Code AM1Code\n",
    "    | LOOP AM1Code AM1Code\n",
    "    deriving (Eq, Show)\n",
    "\n",
    "type AM1Code = [AM1Instr]"
   ]
  },
  {
   "cell_type": "code",
   "execution_count": 17,
   "metadata": {},
   "outputs": [],
   "source": [
    "aexpToAM1Code :: EnvStateAM1 -> Aexp -> (AM1Code, EnvStateAM1)\n",
    "aexpToAM1Code m@(EnvSt e nxtAdr) a = case a of\n",
    "    Num n -> ([PUSH n], m)\n",
    "    Var var -> case M.lookup var e of\n",
    "        Nothing  -> ([GET nxtAdr], EnvSt (M.insert var nxtAdr e) (nxtAdr + 1))\n",
    "        Just adr -> ([GET adr], m)\n",
    "    ae `Plus` ae' ->\n",
    "        let (code, m') = aexpToAM1Code m ae\n",
    "            (code', m'') = aexpToAM1Code m' ae'\n",
    "        in (concat [code', code, [ADD]], m'')\n",
    "    ae `Mul` ae' ->\n",
    "        let (code, m') = aexpToAM1Code m ae\n",
    "            \n",
    "            (code', m'') = aexpToAM1Code m' ae'\n",
    "        in (concat [code', code, [MULT]], m'')\n",
    "    ae `Minus` ae' ->\n",
    "        let (code, m') = aexpToAM1Code m ae\n",
    "            (code', m'') = aexpToAM1Code m' ae'\n",
    "        in (concat [code', code, [SUB]], m'')\n",
    "\n",
    "bexpToAM1Code :: EnvStateAM1 -> Bexp -> (AM1Code, EnvStateAM1)\n",
    "bexpToAM1Code m@(EnvSt e nxtAdr) b = case b of\n",
    "    T -> ([TRUE], m)\n",
    "    F -> ([FALSE], m)\n",
    "    ae `Eq` ae' ->\n",
    "        let (code, m') = aexpToAM1Code m ae\n",
    "            (code', m'') = aexpToAM1Code m' ae'\n",
    "        in (concat [code', code, [EQUAL]], m'')\n",
    "    ae `Le` ae' ->\n",
    "        let (code, m') = aexpToAM1Code m ae\n",
    "            (code', m'') = aexpToAM1Code m' ae'\n",
    "        in (concat [code', code, [LE]], m'')\n",
    "    ae `Lt` ae' ->\n",
    "        let (code, m') = aexpToAM1Code m ae\n",
    "            (code', m'') = aexpToAM1Code m' ae'\n",
    "        in (concat [code', code, [LTHAN]], m'')\n",
    "    ae `Ge` ae' ->\n",
    "        let (code, m') = aexpToAM1Code m ae\n",
    "            (code', m'') = aexpToAM1Code m' ae'\n",
    "        in (concat [code', code, [GE]], m'')\n",
    "    Not be ->\n",
    "        let (code, m') = bexpToAM1Code m be\n",
    "        in ( NEG : code, m')\n",
    "    be `And` be' ->\n",
    "        let (code, m') = bexpToAM1Code m be\n",
    "            (code', m'') = bexpToAM1Code m' be'\n",
    "        in (concat [code', code, [AND]], m'')\n",
    "    be `Or` be' ->\n",
    "        let (code, m') = bexpToAM1Code m be\n",
    "            (code', m'') = bexpToAM1Code m' be'\n",
    "        in (concat [code', code, [OR]], m'')"
   ]
  },
  {
   "cell_type": "code",
   "execution_count": 18,
   "metadata": {},
   "outputs": [],
   "source": [
    "whileToAM1 :: Stm -> (AM1Code, EnvStateAM1)\n",
    "whileToAM1 stm = St.runState (helper stm) (EnvSt M.empty 0)\n",
    "    where\n",
    "        helper :: Stm -> St.State EnvStateAM1 AM1Code\n",
    "        helper (var `Assign` aexp) = do\n",
    "            envSt <- St.get\n",
    "            let (code, EnvSt e nxtAdr) = aexpToAM1Code envSt aexp\n",
    "            case M.lookup var e of\n",
    "                Nothing -> do\n",
    "                    let newEnv = EnvSt (M.insert var nxtAdr e) (nxtAdr + 1)\n",
    "                    St.put newEnv\n",
    "                    return $ code ++ [PUT nxtAdr]\n",
    "                Just n  -> do\n",
    "                    St.put $ EnvSt e nxtAdr\n",
    "                    return $ code ++ [PUT n]\n",
    "        helper Skip = return [NOOP]\n",
    "        helper (c1 `Comp` c2) = do\n",
    "            code1 <- helper c1\n",
    "            code2 <- helper c2\n",
    "            return $ code1 ++ code2\n",
    "        helper (IfThenElse b c1 c2) = do\n",
    "            memSt <- St.get\n",
    "            let (predCode, memSt') = bexpToAM1Code memSt b\n",
    "            St.put memSt'\n",
    "            thenCode <- helper c1\n",
    "            elseCode <- helper c2\n",
    "            return $ predCode ++ [BRANCH thenCode elseCode]\n",
    "        helper (WhileDo b c) = do\n",
    "            memSt <- St.get\n",
    "            let (predCode, memSt') = bexpToAM1Code memSt b\n",
    "            St.put memSt'\n",
    "            loopCode <- helper c\n",
    "            return [LOOP predCode loopCode]"
   ]
  },
  {
   "cell_type": "code",
   "execution_count": 19,
   "metadata": {},
   "outputs": [],
   "source": [
    "type Stack = [Either Z Bool]\n",
    "\n",
    "-- Mapping from address positions to the values they contain.\n",
    "-- Should look like:\n",
    "-- 0 -> n_1\n",
    "-- 1 -> n_2\n",
    "-- 2 -> n_3,\n",
    "-- ...\n",
    "-- k -> n_k\n",
    "-- and so on, where n_i are integers.\n",
    "type Memory = M.Map Z Z\n",
    "\n",
    "type AM1Config = (AM1Code, Stack, Memory)"
   ]
  },
  {
   "cell_type": "code",
   "execution_count": 20,
   "metadata": {},
   "outputs": [],
   "source": [
    "stepAM1 :: AM1Config -> AM1Config\n",
    "stepAM1 conf@([], stack, mem) = conf\n",
    "stepAM1 (c : cs, stack, mem) = case c of\n",
    "    PUSH n -> (cs, Left n : stack, mem)\n",
    "    ADD -> case stack of\n",
    "        Left z1 : Left z2 : stack' ->\n",
    "            (cs, Left (z1 + z2) : stack, mem)\n",
    "        _ -> error \"ADD: invalid stack for operation!\"\n",
    "    MULT -> case stack of\n",
    "        Left z1 : Left z2 : stack' ->\n",
    "            (cs, Left (z1 * z2) : stack, mem)\n",
    "        _ -> error \"MULT: invalid stack for operation!\"\n",
    "    SUB -> case stack of\n",
    "        Left z1 : Left z2 : stack' ->\n",
    "            (cs, Left (z1 - z2) : stack, mem)\n",
    "        _ -> error \"SUB: invalid stack for operation!\"\n",
    "    TRUE -> (cs, Right True : stack, mem)\n",
    "    FALSE -> (cs, Right False : stack, mem)\n",
    "    EQUAL -> case stack of\n",
    "        Left z1 : Left z2 : stack' ->\n",
    "            (cs, Right (z1 == z2) : stack, mem)\n",
    "        _ -> error \"EQUAL: invalid stack for operation!\"\n",
    "    LE -> case stack of\n",
    "        Left z1 : Left z2 : stack' ->\n",
    "            (cs, Right (z1 <= z2) : stack, mem)\n",
    "        _ -> error \"LE: invalid stack for operation!\"\n",
    "    GE -> case stack of\n",
    "        Left z1 : Left z2 : stack' ->\n",
    "            (cs, Right (z1 >= z2) : stack, mem)\n",
    "        _ -> error \"GE: invalid stack for operation!\"\n",
    "    LTHAN -> case stack of\n",
    "        Left z1 : Left z2 : stack' ->\n",
    "            (cs, Right (z1 < z2) : stack, mem)\n",
    "        _ -> error \"LTHAN: invalid stack for operation!\"\n",
    "    AND -> case stack of\n",
    "        Right b1 : Right b2 : stack' ->\n",
    "            (cs, Right (b1 && b2) : stack, mem)\n",
    "        _ -> error \"AND: invalid stack for operation!\"\n",
    "    OR -> case stack of\n",
    "        Right b1 : Right b2 : stack' ->\n",
    "            (cs, Right (b1 || b2) : stack, mem)\n",
    "        _ -> error \"OR: invalid stack for operation!\"\n",
    "    NEG -> case stack of\n",
    "        Right b1 : stack' ->\n",
    "            (cs, Right (not b1) : stack, mem)\n",
    "        _ -> error \"NEG: invalid stack for operation!\"\n",
    "    PUT n -> case stack of\n",
    "        Left z : stack' -> (cs, stack', M.insert n z mem)\n",
    "        _ -> error \"PUT: invalid stack for operation\"\n",
    "    GET n -> (cs, Left (Maybe.fromJust $ M.lookup n mem): stack, mem)\n",
    "    NOOP -> (cs, stack, mem)\n",
    "    BRANCH ins ins' -> case stack of\n",
    "      Right b : stack' ->\n",
    "          let instr = if b then ins else ins'\n",
    "          in (instr, stack', mem)\n",
    "      _   -> error \"BRANCH: invalid stack for operator!\"\n",
    "\n",
    "    LOOP ins ins' -> (ins ++ [BRANCH (ins' ++ [LOOP ins ins']) [NOOP]] ++ cs, stack, mem)"
   ]
  },
  {
   "cell_type": "code",
   "execution_count": 27,
   "metadata": {},
   "outputs": [],
   "source": [
    "initConfigAM1 :: State -> Stm -> (AM1Config, Env)\n",
    "initConfigAM1 initSt stm =\n",
    "    let code :: AM1Code\n",
    "        envSt :: EnvStateAM1\n",
    "        (code, envSt) = whileToAM1 stm\n",
    "\n",
    "        environ = getEnvSt envSt\n",
    "\n",
    "        memory :: Memory\n",
    "        memory = M.fromList [(getEnv environ variable, getSt initSt variable) | variable <- M.keys environ]\n",
    "    in ((code, [], memory), environ)\n",
    "\n",
    "-- Dado um estado inicial e um comando da linguagem while, simula a sua execução\n",
    "-- na máquina abstrata AM1.\n",
    "-- Devolve as variáveis usadas no programa, e os valores que estavam nas respetivas\n",
    "-- posições de memória aquando da terminação da execução.\n",
    "-- Pode não terminar! (Halting problem).\n",
    "runStmInAM1 :: State -> Stm -> M.Map Var Z\n",
    "runStmInAM1 initSt stm =\n",
    "    let (init@(initCode, initStack, initMemory), environ) = initConfigAM1 initSt stm\n",
    "        run :: AM1Config -> AM1Config\n",
    "        run !cfg =\n",
    "            let cfg' = stepAM1 cfg\n",
    "            in if cfg' == cfg then cfg else run cfg'\n",
    "        (finalCode, finalStack, finalMemory) = run init\n",
    "\n",
    "        varsToValues = M.fromList [(var, finalMemory M.! (environ M.! var)) | var <- M.keys environ]\n",
    "\n",
    "    in varsToValues\n"
   ]
  },
  {
   "cell_type": "code",
   "execution_count": 34,
   "metadata": {},
   "outputs": [
    {
     "data": {
      "text/plain": [
       "fromList [(\"m\",0),(\"x\",3),(\"y\",2),(\"z\",0)]"
      ]
     },
     "metadata": {},
     "output_type": "display_data"
    },
    {
     "data": {
      "text/plain": [
       "fromList [(\"n\",3),(\"x\",2),(\"y\",3)]"
      ]
     },
     "metadata": {},
     "output_type": "display_data"
    },
    {
     "data": {
      "text/plain": [
       "fromList [(\"r\",9),(\"x\",3),(\"y\",0)]"
      ]
     },
     "metadata": {},
     "output_type": "display_data"
    },
    {
     "data": {
      "text/plain": [
       "fromList [(\"f\",720),(\"n\",0)]"
      ]
     },
     "metadata": {},
     "output_type": "display_data"
    }
   ],
   "source": [
    "runStmInAM1 ex1State minProg\n",
    "runStmInAM1 ex1State swap\n",
    "runStmInAM1 ex1State expProg\n",
    "runStmInAM1 ex1State fact\n"
   ]
  },
  {
   "cell_type": "markdown",
   "metadata": {},
   "source": [
    "## Abstract Machine 2"
   ]
  },
  {
   "cell_type": "code",
   "execution_count": 50,
   "metadata": {},
   "outputs": [],
   "source": [
    "-- Mapping from variable names to positions in memory.\n",
    "-- Used during \"compilation\" of While code to AM1 bytecode.\n",
    "type Env = M.Map Var Z\n",
    "\n",
    "type NextAddr = Z\n",
    "\n",
    "-- Program counter associated with each instruction.\n",
    "-- Must be positive, starts at 1, each instruction has a unique PC value,\n",
    "-- and strictly increases by 1 unit with every atomic instruction.\n",
    "type ProgramCounter = Z\n",
    "\n",
    "type Stack = [Either Z Bool]\n",
    "\n",
    "-- Mapping from address positions to the values they contain.\n",
    "-- Should look like:\n",
    "-- 0 -> n_1\n",
    "-- 1 -> n_2\n",
    "-- 2 -> n_3,\n",
    "-- ...\n",
    "-- k -> n_k\n",
    "-- and so on, where n_i are integers.\n",
    "type Memory = M.Map Z Z"
   ]
  },
  {
   "cell_type": "code",
   "execution_count": 51,
   "metadata": {},
   "outputs": [],
   "source": [
    "data AM2Instr\n",
    "    = PUSH Z\n",
    "    | ADD\n",
    "    | MULT\n",
    "    | SUB\n",
    "    | TRUE\n",
    "    | FALSE\n",
    "    | EQUAL\n",
    "    | LE\n",
    "    | GE\n",
    "    | LTHAN\n",
    "    | AND\n",
    "    | OR\n",
    "    | NEG\n",
    "    | PUT Z\n",
    "    | GET Z\n",
    "    | NOOP\n",
    "    | LABEL ProgramCounter\n",
    "    | JUMP ProgramCounter\n",
    "    | JUMPFALSE ProgramCounter\n",
    "    deriving (Eq, Show)\n",
    "\n",
    "type AM2Code = [AM2Instr]"
   ]
  },
  {
   "cell_type": "code",
   "execution_count": 52,
   "metadata": {},
   "outputs": [],
   "source": [
    "type AM2Config = (ProgramCounter, AM2Code, Stack, Memory)\n",
    "\n",
    "type AM2AnnotatedProgram = M.Map ProgramCounter AM2Instr"
   ]
  },
  {
   "cell_type": "code",
   "execution_count": 53,
   "metadata": {},
   "outputs": [],
   "source": [
    "data EnvStateAM2 = EnvSt2 {\n",
    "    getEnvSt  :: !Env,\n",
    "    getNxtAdr :: !NextAddr,\n",
    "    getInstrs :: AM2AnnotatedProgram,\n",
    "    getNxtPC  :: ProgramCounter\n",
    "    } deriving (Eq)\n",
    "\n",
    "instance Show EnvStateAM2 where\n",
    "    show (EnvSt2 env nxtAdr instrs nxtPc) =\n",
    "        \"env: \" ++ show env ++ \"\\n\" ++\n",
    "        \"next address: \" ++ show nxtAdr ++ \"\\n\" ++\n",
    "        \"instructions (with pc): \" ++ show instrs ++ \"\\n\" ++\n",
    "        \"next program counter (pc): \" ++ show nxtPc ++ \"\\n\""
   ]
  },
  {
   "cell_type": "markdown",
   "metadata": {},
   "source": [
    "---"
   ]
  },
  {
   "cell_type": "markdown",
   "metadata": {},
   "source": [
    "### Tradução de expressões aritméticas e booleanas para bytecode AM2"
   ]
  },
  {
   "cell_type": "code",
   "execution_count": 56,
   "metadata": {},
   "outputs": [],
   "source": [
    "copyPasteHelper ae ae' instr = do\n",
    "    -- Careful with the order with which this is done - whichever is done first\n",
    "    -- puts its code on the stack first, so the second operand has to go first.\n",
    "    code' <- aexpToAM2Code ae'\n",
    "    code <- aexpToAM2Code ae\n",
    "    St.modify' (\\(EnvSt2 environ nxtAdr instrs nxtPC) -> EnvSt2 environ nxtAdr (M.insert nxtPC instr instrs) (nxtPC + 1))\n",
    "    return $ concat [code', code, [instr]]\n",
    "\n",
    "aexpToAM2Code :: Aexp -> St.State EnvStateAM2 AM2Code\n",
    "aexpToAM2Code a = case a of\n",
    "    Num n -> do\n",
    "        let instr = PUSH n\n",
    "        St.modify' (\\(EnvSt2 environ nxtAdr instrs nxtPC) -> EnvSt2 environ nxtAdr (M.insert nxtPC instr instrs) (nxtPC + 1))\n",
    "        return [instr]\n",
    "    Var var -> do\n",
    "        EnvSt2 environ nxtAdr instrs nxtPC <- St.get\n",
    "        case M.lookup var environ of\n",
    "            Nothing  -> do\n",
    "                let instr = GET nxtAdr\n",
    "                St.put $ EnvSt2 (M.insert var nxtAdr environ) (nxtAdr + 1) (M.insert nxtPC instr instrs) (nxtPC + 1)\n",
    "                return [instr]\n",
    "            Just adr -> do\n",
    "                let instr = GET adr\n",
    "                St.put $ EnvSt2 environ nxtAdr (M.insert nxtPC instr instrs) (nxtPC + 1)\n",
    "                return [instr]\n",
    "    ae `Plus` ae' -> copyPasteHelper ae ae' ADD\n",
    "    ae `Mul` ae' -> copyPasteHelper ae ae' MULT\n",
    "    ae `Minus` ae' -> copyPasteHelper ae ae' SUB\n",
    "\n",
    "bexpToAM2Code :: Bexp -> St.State EnvStateAM2 AM2Code\n",
    "bexpToAM2Code b = case b of\n",
    "    T -> do\n",
    "        let instr = TRUE\n",
    "        St.modify' (\\(EnvSt2 environ nxtAdr instrs nxtPC) -> EnvSt2 environ nxtAdr (M.insert nxtPC instr instrs) (nxtPC + 1))\n",
    "        return [instr]\n",
    "    F -> do\n",
    "        let instr = FALSE\n",
    "        St.modify' (\\(EnvSt2 environ nxtAdr instrs nxtPC) -> EnvSt2 environ nxtAdr (M.insert nxtPC instr instrs) (nxtPC + 1))\n",
    "        return [instr]\n",
    "    ae `Eq` ae' -> copyPasteHelper ae ae' EQUAL\n",
    "    ae `Le` ae' -> copyPasteHelper ae ae' LE\n",
    "    ae `Lt` ae' -> copyPasteHelper ae ae' LTHAN\n",
    "    ae `Ge` ae' -> copyPasteHelper ae ae' GE\n",
    "    Not be -> do\n",
    "        code <- bexpToAM2Code be\n",
    "        let instr = NEG\n",
    "        St.modify' (\\(EnvSt2 environ nxtAdr instrs nxtPC) -> EnvSt2 environ nxtAdr (M.insert nxtPC instr instrs) (nxtPC + 1))\n",
    "        return $ code ++ [instr]\n",
    "    be `And` be' -> copyPasteHelper2 be be' AND\n",
    "    be `Or` be' -> copyPasteHelper2 be be' OR\n",
    "    where\n",
    "        copyPasteHelper2 be be' instr = do\n",
    "            -- Careful with the order with which this is done - whichever is done first\n",
    "            -- puts its code on the stack first, so the second operand has to go first.\n",
    "            code' <- bexpToAM2Code be'\n",
    "            code <- bexpToAM2Code be\n",
    "            St.modify' (\\(EnvSt2 environ nxtAdr instrs nxtPC) -> EnvSt2 environ nxtAdr (M.insert nxtPC instr instrs) (nxtPC + 1))\n",
    "            return $ concat [code', code, [instr]]"
   ]
  },
  {
   "cell_type": "code",
   "execution_count": 58,
   "metadata": {},
   "outputs": [],
   "source": [
    ":ext FlexibleContexts"
   ]
  },
  {
   "cell_type": "code",
   "execution_count": 59,
   "metadata": {},
   "outputs": [],
   "source": [
    "whileToAM2 :: Stm -> (AM2Code, EnvStateAM2)\n",
    "whileToAM2 stm = St.runState (helper stm) (EnvSt2 M.empty 0 M.empty 1)\n",
    "    where\n",
    "        incrCounter = do\n",
    "            EnvSt2 e nA is nxtPC <- St.get\n",
    "            St.put $ EnvSt2 e nA is $ nxtPC + 1\n",
    "            return nxtPC\n",
    "\n",
    "        helper :: Stm -> St.State EnvStateAM2 AM2Code\n",
    "        helper (var `Assign` aexp) = do\n",
    "            code <- aexpToAM2Code aexp\n",
    "            EnvSt2 environ nxtAdr instrs nxtPC <- St.get\n",
    "            case M.lookup var environ of\n",
    "                Nothing -> do\n",
    "                    let instr = PUT nxtAdr\n",
    "                    St.put $ EnvSt2 (M.insert var nxtAdr environ) (nxtAdr + 1) (M.insert nxtPC instr instrs) (nxtPC + 1)\n",
    "                    return $ code ++ [instr]\n",
    "                Just n  -> do\n",
    "                    let instr = PUT n\n",
    "                    St.put $ EnvSt2 environ nxtAdr (M.insert nxtPC instr instrs) (nxtPC + 1)\n",
    "                    return $ code ++ [instr]\n",
    "        helper Skip = do\n",
    "            let instr = NOOP\n",
    "            St.modify' (\\(EnvSt2 environ nxtAdr instrs nxtPC) -> EnvSt2 environ nxtAdr (M.insert nxtPC instr instrs) (nxtPC + 1))\n",
    "            return [instr]\n",
    "        helper (c1 `Comp` c2) = do\n",
    "            code1 <- helper c1\n",
    "            code2 <- helper c2\n",
    "            return $ code1 ++ code2\n",
    "        -- O código máquina gerado para o comando IfThenElse e para o comando WhileDo\n",
    "        -- é complexo porque deve primeiro gerar o código dos subcomandos e predicados,\n",
    "        -- e só depois colocar as instruções de salto e labels - cujo program counter\n",
    "        -- terá de ser guardado antes da tradução dos subcomandos.\n",
    "        --\n",
    "        -- Ver incrCounter.\n",
    "        helper (IfThenElse b c1 c2) = do\n",
    "            predCode <- bexpToAM2Code b\n",
    "            jzProgCounter <- incrCounter\n",
    "            thenCode <- helper c1\n",
    "            elseProgCounter <- incrCounter\n",
    "            elseCode <- helper c2\n",
    "            afterIfProgCounter <- incrCounter\n",
    "            let ifJump     = JUMPFALSE elseProgCounter\n",
    "                elseLabel  = LABEL elseProgCounter\n",
    "                jumpToRest = JUMP afterIfProgCounter\n",
    "                restLabel  = LABEL afterIfProgCounter\n",
    "            EnvSt2 environ nxtAdr instrs _ <- St.get\n",
    "            let jumps = M.fromList [(jzProgCounter, ifJump), (elseProgCounter, jumpToRest), (afterIfProgCounter, restLabel)]\n",
    "            -- Incrementa-se o contador de código devido ao LABEL final, que apontará\n",
    "            -- para o código depois do IfThenElse, se existir.\n",
    "            St.put $ EnvSt2 environ nxtAdr (instrs `M.union` jumps) (afterIfProgCounter + 1)\n",
    "            return $ predCode ++ [ifJump] ++ thenCode ++ [jumpToRest] ++ elseCode ++ [restLabel]\n",
    "        helper (WhileDo b c) = do\n",
    "            boolTestCounter <- incrCounter\n",
    "            predCode <- bexpToAM2Code b\n",
    "            jzProgCounter <- incrCounter\n",
    "            loopCode <- helper c\n",
    "            jumpCounter <- incrCounter\n",
    "            afterWhileCounter <- incrCounter\n",
    "            let whileLabel = LABEL boolTestCounter\n",
    "                whileJump  = JUMPFALSE afterWhileCounter\n",
    "                loopJump   = JUMP boolTestCounter\n",
    "                restLabel  = LABEL afterWhileCounter\n",
    "            EnvSt2 environ nxtAdr instrs _ <- St.get\n",
    "            let jumps = M.fromList [(boolTestCounter, whileLabel), (jzProgCounter, whileJump), (jumpCounter, loopJump), (afterWhileCounter, restLabel)]\n",
    "            St.put $ EnvSt2 environ nxtAdr (instrs `M.union` jumps) (afterWhileCounter + 1)\n",
    "\n",
    "            return $ [whileLabel] ++ predCode ++ [whileJump] ++ loopCode ++ [loopJump] ++ [restLabel]"
   ]
  },
  {
   "cell_type": "code",
   "execution_count": 60,
   "metadata": {},
   "outputs": [],
   "source": [
    "-- Given an AM2 configuration, execute a single instruction\n",
    "-- and transition into the next configuration.\n",
    "--\n",
    "-- Requires \n",
    "stepAM2 :: AM2Config -> AM2AnnotatedProgram -> AM2Config\n",
    "stepAM2 conf@(_, [], stack, mem) _ = conf\n",
    "stepAM2 (pc, c : cs, stack, mem) ann ={-}\n",
    "    trace (\n",
    "        \"code: \" ++ show (c : cs) ++ \"\\n\" ++\n",
    "        \"stack: \" ++ show stack\n",
    "    ) $ -}case c of\n",
    "    PUSH n -> (pc', cs, Left n : stack, mem)\n",
    "    ADD -> case stack of\n",
    "        Left z1 : Left z2 : stack' ->\n",
    "            (pc', cs, Left (z1 + z2) : stack, mem)\n",
    "        _ -> error \"ADD: invalid stack for operation!\"\n",
    "    MULT -> case stack of\n",
    "        Left z1 : Left z2 : stack' ->\n",
    "            (pc', cs, Left (z1 * z2) : stack, mem)\n",
    "        _ -> error \"MULT: invalid stack for operation!\"\n",
    "    SUB -> case stack of\n",
    "        Left z1 : Left z2 : stack' ->\n",
    "            (pc', cs, Left (z1 - z2) : stack, mem)\n",
    "        _ -> error \"SUB: invalid stack for operation!\"\n",
    "    TRUE -> (pc', cs, Right True : stack, mem)\n",
    "    FALSE -> (pc', cs, Right False : stack, mem)\n",
    "    EQUAL -> case stack of\n",
    "        Left z1 : Left z2 : stack' ->\n",
    "            (pc', cs, Right (z1 == z2) : stack, mem)\n",
    "        _ -> error \"EQUAL: invalid stack for operation!\"\n",
    "    LE -> case stack of\n",
    "        Left z1 : Left z2 : stack' ->\n",
    "            (pc', cs, Right (z1 <= z2) : stack, mem)\n",
    "        _ -> error \"LE: invalid stack for operation!\"\n",
    "    GE -> case stack of\n",
    "        Left z1 : Left z2 : stack' ->\n",
    "            (pc', cs, Right (z1 >= z2) : stack, mem)\n",
    "        _ -> error \"GE: invalid stack for operation!\"\n",
    "    LTHAN -> case stack of\n",
    "        Left z1 : Left z2 : stack' ->\n",
    "            (pc', cs, Right (z1 < z2) : stack, mem)\n",
    "        _ -> error \"LTHAN: invalid stack for operation!\"\n",
    "    AND -> case stack of\n",
    "        Right b1 : Right b2 : stack' ->\n",
    "            (pc', cs, Right (b1 && b2) : stack, mem)\n",
    "        _ -> error \"AND: invalid stack for operation!\"\n",
    "    OR -> case stack of\n",
    "        Right b1 : Right b2 : stack' ->\n",
    "            (pc', cs, Right (b1 || b2) : stack, mem)\n",
    "        _ -> error \"OR: invalid stack for operation!\"\n",
    "    NEG -> case stack of\n",
    "        Right b1 : stack' ->\n",
    "            (pc', cs, Right (not b1) : stack, mem)\n",
    "        _ -> error \"NEG: invalid stack for operation!\"\n",
    "    PUT n -> case stack of\n",
    "        Left z : stack' -> (pc', cs, stack', M.insert n z mem)\n",
    "        _ -> error \"PUT: invalid stack for operation\"\n",
    "    GET n -> (pc', cs, Left (Maybe.fromJust $ M.lookup n mem): stack, mem)\n",
    "    NOOP -> (pc', cs, stack, mem)\n",
    "    LABEL lab -> (pc', cs, stack, mem)\n",
    "    JUMP lab -> case M.lookup lab ann of\n",
    "        Nothing    -> error \"JUMP: invalid label!\"\n",
    "        Just instr ->\n",
    "            let instrs = M.elems $ M.dropWhileAntitone (<= lab) ann\n",
    "            in {-trace (\"instrs: \" ++ show (instr : instrs) ++ \"\\nmem: \" ++ show mem)-} (lab, instr : instrs, stack, mem)\n",
    "    JUMPFALSE lab -> case stack of\n",
    "        Right b : stack' -> if b\n",
    "                then (pc', cs, stack', mem)\n",
    "                else case M.lookup lab ann of\n",
    "                    Nothing    -> error \"JUMPFALSE: invalid label!\"\n",
    "                    Just instr ->\n",
    "                        let instrs = M.elems $ M.dropWhileAntitone (<= lab) ann\n",
    "                        in (lab, instr : instrs, stack', mem)\n",
    "        _            -> error \"JUMPFALSE: invalid stack for operation\"\n",
    "\n",
    "    where\n",
    "        pc' = pc + 1"
   ]
  },
  {
   "cell_type": "code",
   "execution_count": 61,
   "metadata": {},
   "outputs": [],
   "source": [
    "-- A configuração inicial de um programa para AM2 precisa vir acompanhada de\n",
    "-- um Map com a associação entre cada instrução e o seu program counter,\n",
    "-- porque no caso das instruções de salto em que é possível \"regredir\" no\n",
    "-- programa, usar só uma lista para instruções não o permitirá.\n",
    "initConfigAM2 :: State -> Stm -> (AM2Config, Env, AM2AnnotatedProgram)\n",
    "initConfigAM2 initSt stm =\n",
    "    let code :: AM2Code\n",
    "        envSt :: EnvStateAM2\n",
    "        (code, envSt) = whileToAM2 stm\n",
    "\n",
    "        environ = getEnvSt envSt\n",
    "        annotatedByteCode = getInstrs envSt--M.fromList $ zip (M.keys . getInstrs $ envSt) code\n",
    "\n",
    "        memory :: Memory\n",
    "        memory = M.fromList [(getEnv environ variable, getSt initSt variable) | variable <- M.keys environ]\n",
    "    in ((1, code, [], memory), environ, annotatedByteCode)\n",
    "\n",
    "-- Dado um estado inicial e um comando da linguagem while, simula a sua execução\n",
    "-- na máquina abstrata AM2.\n",
    "-- Devolve as variáveis usadas no programa, e os valores que estavam nas respetivas\n",
    "-- posições de memória aquando da terminação da execução.\n",
    "-- Pode não terminar! (Halting problem).\n",
    "runStmInAM2 :: State -> Stm -> M.Map Var Z\n",
    "runStmInAM2 initSt stm =\n",
    "    let (init@(initPC, initCode, initStack, initMemory), environ, annotated) = initConfigAM2 initSt stm\n",
    "        program_length = M.size annotated\n",
    "        run :: AM2Config -> AM2Config\n",
    "        run !cfg =\n",
    "            let cfg'@(pc, code, stack, memory) = stepAM2 cfg annotated\n",
    "            -- Here cfg' needs to be the final configuration, and not cfg.\n",
    "            -- Causes hard-to-diagnose bugs.\n",
    "            in if fromInteger pc == (program_length + 1) then cfg' else run cfg'\n",
    "        (finalPC, finalCode, finalStack, finalMemory) = run init\n",
    "\n",
    "        varsToValues = M.fromList [(var, finalMemory M.! (environ M.! var)) | var <- M.keys environ]\n",
    "\n",
    "    in varsToValues"
   ]
  },
  {
   "cell_type": "code",
   "execution_count": 63,
   "metadata": {},
   "outputs": [
    {
     "data": {
      "text/plain": [
       "fromList [(\"r\",9),(\"x\",3),(\"y\",0)]"
      ]
     },
     "metadata": {},
     "output_type": "display_data"
    },
    {
     "data": {
      "text/plain": [
       "fromList [(\"f\",720),(\"n\",0)]"
      ]
     },
     "metadata": {},
     "output_type": "display_data"
    }
   ],
   "source": [
    "runStmInAM2 ex1State expProg\n",
    "runStmInAM2 ex1State fact"
   ]
  }
 ],
 "metadata": {
  "kernelspec": {
   "display_name": "Haskell",
   "language": "haskell",
   "name": "haskell"
  },
  "language_info": {
   "codemirror_mode": "ihaskell",
   "file_extension": ".hs",
   "mimetype": "text/x-haskell",
   "name": "haskell",
   "pygments_lexer": "Haskell",
   "version": "8.10.7"
  },
  "orig_nbformat": 4
 },
 "nbformat": 4,
 "nbformat_minor": 2
}
